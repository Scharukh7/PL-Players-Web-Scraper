{
 "cells": [
  {
   "cell_type": "code",
   "execution_count": 1,
   "metadata": {},
   "outputs": [
    {
     "name": "stderr",
     "output_type": "stream",
     "text": [
      "\n",
      "\n",
      "====== WebDriver manager ======\n",
      "Current google-chrome version is 100.0.4896\n",
      "Get LATEST chromedriver version for 100.0.4896 google-chrome\n",
      "Driver [/home/shah/.wdm/drivers/chromedriver/linux64/100.0.4896.60/chromedriver] found in cache\n"
     ]
    }
   ],
   "source": [
    "from scraper import Scraper\n",
    "\n",
    "bot = Scraper(\"https://www.premierleague.com/stats/top/players/goals?se=418\")"
   ]
  },
  {
   "cell_type": "code",
   "execution_count": 2,
   "metadata": {},
   "outputs": [
    {
     "name": "stdout",
     "output_type": "stream",
     "text": [
      "Player data from RDS\n",
      "    index                                  UUID Rank             Player  \\\n",
      "0       0  2c3fcbcc-b87c-4be6-b066-8ae462e6edc8   1.      Mohamed Salah   \n",
      "1       1  98375c79-b791-4520-bd53-13d1eb2d0ef3   2.      Son Heung-Min   \n",
      "2       2  d30f4e11-7cad-4004-afe7-cd1ca343aab1   3.  Cristiano Ronaldo   \n",
      "3       3  672cd36b-7496-475e-9f30-99f2f7759dd6   3.         Diogo Jota   \n",
      "4       4  3cd0af39-003b-4f8d-b084-830c847cb0ed   5.         Sadio Mané   \n",
      "5       5  edd38600-5648-4300-9fdc-de40e6587e63   6.         Harry Kane   \n",
      "6       6  51e3e888-537f-4f7a-bd80-c3db5cd5cf90   6.         Ivan Toney   \n",
      "7       7  f5b214a9-298f-4b7c-86c6-7a1c86e5ff93   8.    Kevin De Bruyne   \n",
      "8       8  4375092a-92c7-414d-96c5-b66ad9f65dc1   8.       Riyad Mahrez   \n",
      "9       9  3e1c75f9-b443-4a3c-97c3-df5462708168   8.      Wilfried Zaha   \n",
      "10     10  fd116e29-64bc-4432-b570-71c27b926943  11.    Emmanuel Dennis   \n",
      "11     11  9b195cfd-f7d8-4935-9ed3-a05d07965520  11.           Raphinha   \n",
      "12     12  7d294786-827e-4e24-b571-6f1e8d665c1f  11.        Mason Mount   \n",
      "13     13  348d5552-6c60-4614-bb63-e28c977e437b  11.        Teemu Pukki   \n",
      "14     14  8ece3365-f731-4cfb-b952-eeac89d1e59e  11.        Bukayo Saka   \n",
      "15     15  14ad5582-d7bc-4430-ac34-ae463a520789  11.   Emile Smith Rowe   \n",
      "16     16  e762bdff-31bc-4a42-9c58-3b7a92f8692a  11.    Raheem Sterling   \n",
      "17     17  45ea6d87-4bbf-43ec-84d8-823ef5616d07  11.        Jamie Vardy   \n",
      "18     18  5d9c9fc9-ff0c-4a91-803d-d12aeb0fb63d  19.    Bruno Fernandes   \n",
      "19     19  631ab5bb-bcb8-4006-9302-ee664a3965ed  19.       Jarrod Bowen   \n",
      "\n",
      "                 Club    Nationality Stat    Date Of Birth Height  \\\n",
      "0           Liverpool          Egypt   22  15/06/1992 (29)  175cm   \n",
      "1   Tottenham Hotspur    South Korea   17  08/07/1992 (29)  183cm   \n",
      "2   Manchester United       Portugal   15  05/02/1985 (37)  187cm   \n",
      "3           Liverpool       Portugal   15  04/12/1996 (25)  178cm   \n",
      "4           Liverpool        Senegal   14  10/04/1992 (30)  175cm   \n",
      "5   Tottenham Hotspur        England   12  28/07/1993 (28)  188cm   \n",
      "6           Brentford        England   12  16/03/1996 (26)  179cm   \n",
      "7     Manchester City        Belgium   11  28/06/1991 (30)  181cm   \n",
      "8     Manchester City        Algeria   11  21/02/1991 (31)  179cm   \n",
      "9      Crystal Palace  Cote D’Ivoire   11  10/11/1992 (29)  180cm   \n",
      "10            Watford        Nigeria   10  15/11/1997 (24)  175cm   \n",
      "11       Leeds United         Brazil   10  14/12/1996 (25)  176cm   \n",
      "12            Chelsea        England   10  10/01/1999 (23)  178cm   \n",
      "13       Norwich City        Finland   10  29/03/1990 (32)  180cm   \n",
      "14            Arsenal        England   10  05/09/2001 (20)  178cm   \n",
      "15            Arsenal        England   10  28/07/2000 (21)  182cm   \n",
      "16    Manchester City        England   10  08/12/1994 (27)  170cm   \n",
      "17     Leicester City        England   10  11/01/1987 (35)  179cm   \n",
      "18  Manchester United       Portugal    9  08/09/1994 (27)  179cm   \n",
      "19    West Ham United        England    9  20/12/1996 (25)  175cm   \n",
      "\n",
      "                                                 link  \n",
      "0   https://www.premierleague.com/players/5178/pla...  \n",
      "1   https://www.premierleague.com/players/4999/pla...  \n",
      "2   https://www.premierleague.com/players/2522/pla...  \n",
      "3   https://www.premierleague.com/players/19758/pl...  \n",
      "4   https://www.premierleague.com/players/6519/pla...  \n",
      "5   https://www.premierleague.com/players/3960/pla...  \n",
      "6   https://www.premierleague.com/players/9246/pla...  \n",
      "7   https://www.premierleague.com/players/4288/pla...  \n",
      "8   https://www.premierleague.com/players/8983/pla...  \n",
      "9   https://www.premierleague.com/players/4539/pla...  \n",
      "10  https://www.premierleague.com/players/20701/pl...  \n",
      "11  https://www.premierleague.com/players/24156/pl...  \n",
      "12  https://www.premierleague.com/players/14580/pl...  \n",
      "13  https://www.premierleague.com/players/5169/pla...  \n",
      "14  https://www.premierleague.com/players/49481/pl...  \n",
      "15  https://www.premierleague.com/players/14445/pl...  \n",
      "16  https://www.premierleague.com/players/4316/pla...  \n",
      "17  https://www.premierleague.com/players/8979/pla...  \n",
      "18  https://www.premierleague.com/players/23396/pl...  \n",
      "19  https://www.premierleague.com/players/8868/pla...  \n",
      "Image data from RDS\n",
      "    index                                  UUID         Image Name  \\\n",
      "0       0  991a380a-98a5-4cc0-b715-fcb948550c2f      Mohamed Salah   \n",
      "1       1  e80cc76a-00c1-43cf-b68c-6b8cf2e29ad2      Son Heung-Min   \n",
      "2       2  44dca12a-768d-48fa-9f27-ede6dfe1c8d0  Cristiano Ronaldo   \n",
      "3       3  69669391-36aa-43cf-993c-bfc5474401f0         Diogo Jota   \n",
      "4       4  c1fdc7d5-40d4-438e-b7b4-26acc5b914e3         Sadio Mané   \n",
      "5       5  449a1d6b-7ff0-40ba-891b-179282ec4c61         Harry Kane   \n",
      "6       6  0706b25d-f26a-4f33-9a7c-6f4575afbf7f         Ivan Toney   \n",
      "7       7  fe4ea09f-d963-45db-b838-c439d655a8b9    Kevin De Bruyne   \n",
      "8       8  3d7294bc-dfe0-4cd1-bc59-e7bf8badbaf6       Riyad Mahrez   \n",
      "9       9  d0b43343-fd54-4f98-beaf-1134e136782f      Wilfried Zaha   \n",
      "10     10  562f13a3-0715-4cde-ab69-c1a413698157    Emmanuel Dennis   \n",
      "11     11  27be32ff-7fcd-4c1c-b83a-928e8efe4cdf           Raphinha   \n",
      "12     12  6aa665a1-e475-49be-863a-07d8bf9f46dc        Mason Mount   \n",
      "13     13  c00dfc9c-fbe5-4fc1-a428-8d4fa922464b        Teemu Pukki   \n",
      "14     14  2ed9d698-8c9d-4f52-80bc-73c88db73c2a        Bukayo Saka   \n",
      "15     15  5f0f1963-2416-46da-9193-02c0d71e8e89   Emile Smith Rowe   \n",
      "16     16  972aef03-0c00-43e0-8cc3-16b11edb75bb    Raheem Sterling   \n",
      "17     17  02a6f476-36a1-465f-9220-d5c62a289a8a        Jamie Vardy   \n",
      "18     18  919a3748-1543-49b2-b638-e20b9f1b3ef6    Bruno Fernandes   \n",
      "19     19  f01bf421-d5c8-4cee-b1a9-f6831d53a6db       Jarrod Bowen   \n",
      "\n",
      "                                        Player Images  \n",
      "0   https://resources.premierleague.com/premierlea...  \n",
      "1   https://resources.premierleague.com/premierlea...  \n",
      "2   https://resources.premierleague.com/premierlea...  \n",
      "3   https://resources.premierleague.com/premierlea...  \n",
      "4   https://resources.premierleague.com/premierlea...  \n",
      "5   https://resources.premierleague.com/premierlea...  \n",
      "6   https://resources.premierleague.com/premierlea...  \n",
      "7   https://resources.premierleague.com/premierlea...  \n",
      "8   https://resources.premierleague.com/premierlea...  \n",
      "9   https://resources.premierleague.com/premierlea...  \n",
      "10  https://resources.premierleague.com/premierlea...  \n",
      "11  https://resources.premierleague.com/premierlea...  \n",
      "12  https://resources.premierleague.com/premierlea...  \n",
      "13  https://resources.premierleague.com/premierlea...  \n",
      "14  https://resources.premierleague.com/premierlea...  \n",
      "15  https://resources.premierleague.com/premierlea...  \n",
      "16  https://resources.premierleague.com/premierlea...  \n",
      "17  https://resources.premierleague.com/premierlea...  \n",
      "18  https://resources.premierleague.com/premierlea...  \n",
      "19  https://resources.premierleague.com/premierlea...  \n"
     ]
    }
   ],
   "source": [
    "bot.connecting_to_RDS()"
   ]
  },
  {
   "cell_type": "code",
   "execution_count": 3,
   "metadata": {},
   "outputs": [
    {
     "name": "stdout",
     "output_type": "stream",
     "text": [
      "Cookies accepted\n"
     ]
    }
   ],
   "source": [
    "bot.accept_cookies()"
   ]
  },
  {
   "cell_type": "code",
   "execution_count": 4,
   "metadata": {},
   "outputs": [],
   "source": [
    "bot.scroll_page()"
   ]
  },
  {
   "cell_type": "code",
   "execution_count": 5,
   "metadata": {},
   "outputs": [],
   "source": [
    "bot.storing_player_data('raw_data')"
   ]
  },
  {
   "cell_type": "code",
   "execution_count": 6,
   "metadata": {},
   "outputs": [
    {
     "name": "stdout",
     "output_type": "stream",
     "text": [
      "Collected players information from the table\n"
     ]
    }
   ],
   "source": [
    "bot.player_data_list()"
   ]
  },
  {
   "cell_type": "code",
   "execution_count": 7,
   "metadata": {},
   "outputs": [
    {
     "name": "stdout",
     "output_type": "stream",
     "text": [
      "collected links for each players profile and UUID\n"
     ]
    }
   ],
   "source": [
    "bot.player_links_uuid()"
   ]
  },
  {
   "cell_type": "code",
   "execution_count": 8,
   "metadata": {},
   "outputs": [
    {
     "name": "stdout",
     "output_type": "stream",
     "text": [
      "collected extra data from the profile of Mohamed Salah\n",
      "collected image and uuid from the profile of Mohamed Salah\n",
      "Uploading images to AWS S3\n",
      "collected extra data from the profile of Son Heung-Min\n",
      "collected image and uuid from the profile of Son Heung-Min\n",
      "Uploading images to AWS S3\n",
      "collected extra data from the profile of Cristiano Ronaldo\n",
      "collected image and uuid from the profile of Cristiano Ronaldo\n",
      "Uploading images to AWS S3\n",
      "collected extra data from the profile of Diogo Jota\n",
      "collected image and uuid from the profile of Diogo Jota\n",
      "Uploading images to AWS S3\n",
      "collected extra data from the profile of Sadio Mané\n",
      "collected image and uuid from the profile of Sadio Mané\n",
      "Uploading images to AWS S3\n",
      "collected extra data from the profile of Harry Kane\n",
      "collected image and uuid from the profile of Harry Kane\n",
      "Uploading images to AWS S3\n",
      "collected extra data from the profile of Ivan Toney\n",
      "collected image and uuid from the profile of Ivan Toney\n",
      "Uploading images to AWS S3\n",
      "collected extra data from the profile of Kevin De Bruyne\n",
      "collected image and uuid from the profile of Kevin De Bruyne\n",
      "Uploading images to AWS S3\n",
      "collected extra data from the profile of Riyad Mahrez\n",
      "collected image and uuid from the profile of Riyad Mahrez\n",
      "Uploading images to AWS S3\n",
      "collected extra data from the profile of Wilfried Zaha\n",
      "collected image and uuid from the profile of Wilfried Zaha\n",
      "Uploading images to AWS S3\n",
      "collected extra data from the profile of Emmanuel Dennis\n",
      "collected image and uuid from the profile of Emmanuel Dennis\n",
      "Uploading images to AWS S3\n",
      "collected extra data from the profile of Raphinha\n",
      "collected image and uuid from the profile of Raphinha\n",
      "Uploading images to AWS S3\n",
      "collected extra data from the profile of Mason Mount\n",
      "collected image and uuid from the profile of Mason Mount\n",
      "Uploading images to AWS S3\n",
      "collected extra data from the profile of Teemu Pukki\n",
      "collected image and uuid from the profile of Teemu Pukki\n",
      "Uploading images to AWS S3\n",
      "collected extra data from the profile of Bukayo Saka\n",
      "collected image and uuid from the profile of Bukayo Saka\n",
      "Uploading images to AWS S3\n",
      "collected extra data from the profile of Emile Smith Rowe\n",
      "collected image and uuid from the profile of Emile Smith Rowe\n",
      "Uploading images to AWS S3\n",
      "collected extra data from the profile of Raheem Sterling\n",
      "collected image and uuid from the profile of Raheem Sterling\n",
      "Uploading images to AWS S3\n",
      "collected extra data from the profile of Jamie Vardy\n",
      "collected image and uuid from the profile of Jamie Vardy\n",
      "Uploading images to AWS S3\n",
      "collected extra data from the profile of Bruno Fernandes\n",
      "collected image and uuid from the profile of Bruno Fernandes\n",
      "Uploading images to AWS S3\n",
      "collected extra data from the profile of Jarrod Bowen\n",
      "collected image and uuid from the profile of Jarrod Bowen\n",
      "Uploading images to AWS S3\n"
     ]
    }
   ],
   "source": [
    "bot.player_extra_data_and_images_data_from_links()"
   ]
  },
  {
   "cell_type": "code",
   "execution_count": 9,
   "metadata": {},
   "outputs": [],
   "source": [
    "bot.sort_scraping_image_data()"
   ]
  },
  {
   "cell_type": "code",
   "execution_count": 10,
   "metadata": {},
   "outputs": [
    {
     "name": "stdout",
     "output_type": "stream",
     "text": [
      "Image data json files already exists\n",
      "Uploading Image data to AWS S3\n",
      "Image data json files already exists\n",
      "Uploading Image data to AWS S3\n",
      "Image data json files already exists\n",
      "Uploading Image data to AWS S3\n",
      "Image data json files already exists\n",
      "Uploading Image data to AWS S3\n",
      "Image data json files already exists\n",
      "Uploading Image data to AWS S3\n",
      "Image data json files already exists\n",
      "Uploading Image data to AWS S3\n",
      "Image data json files already exists\n",
      "Uploading Image data to AWS S3\n",
      "Image data json files already exists\n",
      "Uploading Image data to AWS S3\n",
      "Image data json files already exists\n",
      "Uploading Image data to AWS S3\n",
      "Image data json files already exists\n",
      "Uploading Image data to AWS S3\n",
      "Image data json files already exists\n",
      "Uploading Image data to AWS S3\n",
      "Image data json files already exists\n",
      "Uploading Image data to AWS S3\n",
      "Image data json files already exists\n",
      "Uploading Image data to AWS S3\n",
      "Image data json files already exists\n",
      "Uploading Image data to AWS S3\n",
      "Image data json files already exists\n",
      "Uploading Image data to AWS S3\n",
      "Image data json files already exists\n",
      "Uploading Image data to AWS S3\n",
      "Image data json files already exists\n",
      "Uploading Image data to AWS S3\n",
      "Image data json files already exists\n",
      "Uploading Image data to AWS S3\n",
      "Image data json files already exists\n",
      "Uploading Image data to AWS S3\n",
      "Image data json files already exists\n",
      "Uploading Image data to AWS S3\n"
     ]
    }
   ],
   "source": [
    "bot.indexing_image_data()"
   ]
  },
  {
   "cell_type": "code",
   "execution_count": 11,
   "metadata": {},
   "outputs": [],
   "source": [
    "bot.sort_scraping_player_data()"
   ]
  },
  {
   "cell_type": "code",
   "execution_count": 12,
   "metadata": {},
   "outputs": [
    {
     "name": "stdout",
     "output_type": "stream",
     "text": [
      "player data (json) files already exists\n",
      "Uploading Player data to AWS S3\n",
      "player data (json) files already exists\n",
      "Uploading Player data to AWS S3\n",
      "player data (json) files already exists\n",
      "Uploading Player data to AWS S3\n",
      "player data (json) files already exists\n",
      "Uploading Player data to AWS S3\n",
      "player data (json) files already exists\n",
      "Uploading Player data to AWS S3\n",
      "player data (json) files already exists\n",
      "Uploading Player data to AWS S3\n",
      "player data (json) files already exists\n",
      "Uploading Player data to AWS S3\n",
      "player data (json) files already exists\n",
      "Uploading Player data to AWS S3\n",
      "player data (json) files already exists\n",
      "Uploading Player data to AWS S3\n",
      "player data (json) files already exists\n",
      "Uploading Player data to AWS S3\n",
      "player data (json) files already exists\n",
      "Uploading Player data to AWS S3\n",
      "player data (json) files already exists\n",
      "Uploading Player data to AWS S3\n",
      "player data (json) files already exists\n",
      "Uploading Player data to AWS S3\n",
      "player data (json) files already exists\n",
      "Uploading Player data to AWS S3\n",
      "player data (json) files already exists\n",
      "Uploading Player data to AWS S3\n",
      "player data (json) files already exists\n",
      "Uploading Player data to AWS S3\n",
      "player data (json) files already exists\n",
      "Uploading Player data to AWS S3\n",
      "player data (json) files already exists\n",
      "Uploading Player data to AWS S3\n",
      "player data (json) files already exists\n",
      "Uploading Player data to AWS S3\n",
      "player data (json) files already exists\n",
      "Uploading Player data to AWS S3\n"
     ]
    }
   ],
   "source": [
    "bot.indexing_player_data()"
   ]
  },
  {
   "cell_type": "code",
   "execution_count": 13,
   "metadata": {},
   "outputs": [
    {
     "name": "stdout",
     "output_type": "stream",
     "text": [
      "Same results, nothing to rescrape\n"
     ]
    },
    {
     "data": {
      "text/plain": [
       "False"
      ]
     },
     "execution_count": 13,
     "metadata": {},
     "output_type": "execute_result"
    }
   ],
   "source": [
    "bot.check_player_data_difference()"
   ]
  },
  {
   "cell_type": "code",
   "execution_count": 14,
   "metadata": {},
   "outputs": [],
   "source": [
    "#bot.upload_RDS_table()"
   ]
  },
  {
   "cell_type": "markdown",
   "metadata": {},
   "source": []
  }
 ],
 "metadata": {
  "interpreter": {
   "hash": "c14a6692a215417f5263d283ebf372218c2d1b9771ac18dab80d5263bb04c7bf"
  },
  "kernelspec": {
   "display_name": "Python 3.9.12 ('selenium_project')",
   "language": "python",
   "name": "python3"
  },
  "language_info": {
   "codemirror_mode": {
    "name": "ipython",
    "version": 3
   },
   "file_extension": ".py",
   "mimetype": "text/x-python",
   "name": "python",
   "nbconvert_exporter": "python",
   "pygments_lexer": "ipython3",
   "version": "3.9.12"
  },
  "orig_nbformat": 4
 },
 "nbformat": 4,
 "nbformat_minor": 2
}
